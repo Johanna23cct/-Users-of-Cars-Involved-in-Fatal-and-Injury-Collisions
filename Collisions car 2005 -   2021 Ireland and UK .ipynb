{
 "cells": [
  {
   "cell_type": "markdown",
   "id": "879b95e1",
   "metadata": {},
   "source": [
    "# Task 1 Introduction : Transportation in Ireland\n",
    "ROA23 - Users of Cars Involved in Fatal and Injury Collisions\n",
    "https://data.gov.ie/dataset/roa23-users-of-cars-involved-in-fatal-and-injury-collisions\n",
    "\n",
    "\n",
    "About this file Dataset contains these rows:\n",
    "\n",
    "\n",
    "Licensed under: Creative Commons Attribution 4.0\n",
    "GITHUB LINK:\n",
    "https://github.com/Johanna23cct/-Users-of-Cars-Involved-in-Fatal-and-Injury-Collisions.git"
   ]
  },
  {
   "cell_type": "markdown",
   "id": "bf895f93",
   "metadata": {},
   "source": [
    "# Task 2 Setup and imports libraries"
   ]
  },
  {
   "cell_type": "code",
   "execution_count": 1,
   "id": "23b4f70b",
   "metadata": {},
   "outputs": [],
   "source": [
    "# Importing some libraries:\n",
    "import pandas as pd\n",
    "import statistics as stats\n",
    "import numpy as np\n",
    "import csv\n",
    "# import some libraries for Visualising the price variable:\n",
    "import seaborn as sns\n",
    "import matplotlib.pyplot as plt\n",
    "%matplotlib inline\n",
    "\n",
    "# Import the library for normalization of the data\n",
    "from sklearn.preprocessing import StandardScaler\n",
    "from sklearn import datasets\n",
    "from sklearn.linear_model import LinearRegression\n",
    "from sklearn.model_selection import train_test_split\n",
    "from sklearn.datasets import load_iris\n",
    "from sklearn.neighbors import KNeighborsClassifier\n",
    "from sklearn.metrics import accuracy_score\n",
    "from sklearn.metrics import mean_squared_error\n",
    "data = load_iris()\n",
    "X_train, X_test, y_train, y_test = train_test_split(data.data, data.target, test_size=0.2, random_state=42)\n",
    "from sklearn.tree import DecisionTreeRegressor"
   ]
  },
  {
   "cell_type": "markdown",
   "id": "5e521b9b",
   "metadata": {},
   "source": [
    "# Task 3 importing data\n",
    "Read data from csv.\n",
    "Shape.\n",
    "Drop unnecessary columns.\n",
    "add sentiment.\n",
    "\n",
    "\n",
    "Calculation of Polarity\n",
    "summary statistics Descriptive "
   ]
  },
  {
   "cell_type": "code",
   "execution_count": 2,
   "id": "33884f8e",
   "metadata": {},
   "outputs": [
    {
     "data": {
      "text/html": [
       "<div>\n",
       "<style scoped>\n",
       "    .dataframe tbody tr th:only-of-type {\n",
       "        vertical-align: middle;\n",
       "    }\n",
       "\n",
       "    .dataframe tbody tr th {\n",
       "        vertical-align: top;\n",
       "    }\n",
       "\n",
       "    .dataframe thead th {\n",
       "        text-align: right;\n",
       "    }\n",
       "</style>\n",
       "<table border=\"1\" class=\"dataframe\">\n",
       "  <thead>\n",
       "    <tr style=\"text-align: right;\">\n",
       "      <th></th>\n",
       "      <th>STATISTIC</th>\n",
       "      <th>Statistic Label</th>\n",
       "      <th>TLIST(A1)</th>\n",
       "      <th>Year</th>\n",
       "      <th>C03121V03773</th>\n",
       "      <th>Seat Belt Usage</th>\n",
       "      <th>UNIT</th>\n",
       "      <th>VALUE</th>\n",
       "    </tr>\n",
       "  </thead>\n",
       "  <tbody>\n",
       "    <tr>\n",
       "      <th>0</th>\n",
       "      <td>ROA23C1</td>\n",
       "      <td>Users of Cars Killed in Collisions</td>\n",
       "      <td>2005</td>\n",
       "      <td>2005</td>\n",
       "      <td>1</td>\n",
       "      <td>Car drivers: seat belt in use</td>\n",
       "      <td>Number</td>\n",
       "      <td>55.0</td>\n",
       "    </tr>\n",
       "    <tr>\n",
       "      <th>1</th>\n",
       "      <td>ROA23C1</td>\n",
       "      <td>Users of Cars Killed in Collisions</td>\n",
       "      <td>2005</td>\n",
       "      <td>2005</td>\n",
       "      <td>2</td>\n",
       "      <td>Car drivers: seat belt not in use</td>\n",
       "      <td>Number</td>\n",
       "      <td>38.0</td>\n",
       "    </tr>\n",
       "    <tr>\n",
       "      <th>2</th>\n",
       "      <td>ROA23C1</td>\n",
       "      <td>Users of Cars Killed in Collisions</td>\n",
       "      <td>2005</td>\n",
       "      <td>2005</td>\n",
       "      <td>3</td>\n",
       "      <td>Car drivers: seat belt usage unknown</td>\n",
       "      <td>Number</td>\n",
       "      <td>37.0</td>\n",
       "    </tr>\n",
       "    <tr>\n",
       "      <th>3</th>\n",
       "      <td>ROA23C1</td>\n",
       "      <td>Users of Cars Killed in Collisions</td>\n",
       "      <td>2005</td>\n",
       "      <td>2005</td>\n",
       "      <td>4</td>\n",
       "      <td>Car drivers: seat belt usage not stated</td>\n",
       "      <td>Number</td>\n",
       "      <td>14.0</td>\n",
       "    </tr>\n",
       "    <tr>\n",
       "      <th>4</th>\n",
       "      <td>ROA23C1</td>\n",
       "      <td>Users of Cars Killed in Collisions</td>\n",
       "      <td>2005</td>\n",
       "      <td>2005</td>\n",
       "      <td>9</td>\n",
       "      <td>All car drivers</td>\n",
       "      <td>Number</td>\n",
       "      <td>144.0</td>\n",
       "    </tr>\n",
       "  </tbody>\n",
       "</table>\n",
       "</div>"
      ],
      "text/plain": [
       "  STATISTIC                     Statistic Label  TLIST(A1)  Year  \\\n",
       "0   ROA23C1  Users of Cars Killed in Collisions       2005  2005   \n",
       "1   ROA23C1  Users of Cars Killed in Collisions       2005  2005   \n",
       "2   ROA23C1  Users of Cars Killed in Collisions       2005  2005   \n",
       "3   ROA23C1  Users of Cars Killed in Collisions       2005  2005   \n",
       "4   ROA23C1  Users of Cars Killed in Collisions       2005  2005   \n",
       "\n",
       "   C03121V03773                          Seat Belt Usage    UNIT  VALUE  \n",
       "0             1            Car drivers: seat belt in use  Number   55.0  \n",
       "1             2        Car drivers: seat belt not in use  Number   38.0  \n",
       "2             3     Car drivers: seat belt usage unknown  Number   37.0  \n",
       "3             4  Car drivers: seat belt usage not stated  Number   14.0  \n",
       "4             9                          All car drivers  Number  144.0  "
      ]
     },
     "execution_count": 2,
     "metadata": {},
     "output_type": "execute_result"
    }
   ],
   "source": [
    "df = pd.read_csv('collisions.csv')\n",
    "df.head()"
   ]
  },
  {
   "cell_type": "code",
   "execution_count": 3,
   "id": "8e47b42c",
   "metadata": {},
   "outputs": [
    {
     "data": {
      "text/plain": [
       "(680, 8)"
      ]
     },
     "execution_count": 3,
     "metadata": {},
     "output_type": "execute_result"
    }
   ],
   "source": [
    "df.shape"
   ]
  },
  {
   "cell_type": "code",
   "execution_count": 4,
   "id": "3dbd25c5",
   "metadata": {},
   "outputs": [
    {
     "data": {
      "text/html": [
       "<div>\n",
       "<style scoped>\n",
       "    .dataframe tbody tr th:only-of-type {\n",
       "        vertical-align: middle;\n",
       "    }\n",
       "\n",
       "    .dataframe tbody tr th {\n",
       "        vertical-align: top;\n",
       "    }\n",
       "\n",
       "    .dataframe thead th {\n",
       "        text-align: right;\n",
       "    }\n",
       "</style>\n",
       "<table border=\"1\" class=\"dataframe\">\n",
       "  <thead>\n",
       "    <tr style=\"text-align: right;\">\n",
       "      <th></th>\n",
       "      <th>STATISTIC</th>\n",
       "      <th>Statistic Label</th>\n",
       "      <th>Year</th>\n",
       "      <th>C03121V03773</th>\n",
       "      <th>Seat Belt Usage</th>\n",
       "      <th>UNIT</th>\n",
       "      <th>VALUE</th>\n",
       "    </tr>\n",
       "  </thead>\n",
       "  <tbody>\n",
       "    <tr>\n",
       "      <th>0</th>\n",
       "      <td>ROA23C1</td>\n",
       "      <td>Users of Cars Killed in Collisions</td>\n",
       "      <td>2005</td>\n",
       "      <td>1</td>\n",
       "      <td>Car drivers: seat belt in use</td>\n",
       "      <td>Number</td>\n",
       "      <td>55.0</td>\n",
       "    </tr>\n",
       "    <tr>\n",
       "      <th>1</th>\n",
       "      <td>ROA23C1</td>\n",
       "      <td>Users of Cars Killed in Collisions</td>\n",
       "      <td>2005</td>\n",
       "      <td>2</td>\n",
       "      <td>Car drivers: seat belt not in use</td>\n",
       "      <td>Number</td>\n",
       "      <td>38.0</td>\n",
       "    </tr>\n",
       "    <tr>\n",
       "      <th>2</th>\n",
       "      <td>ROA23C1</td>\n",
       "      <td>Users of Cars Killed in Collisions</td>\n",
       "      <td>2005</td>\n",
       "      <td>3</td>\n",
       "      <td>Car drivers: seat belt usage unknown</td>\n",
       "      <td>Number</td>\n",
       "      <td>37.0</td>\n",
       "    </tr>\n",
       "    <tr>\n",
       "      <th>3</th>\n",
       "      <td>ROA23C1</td>\n",
       "      <td>Users of Cars Killed in Collisions</td>\n",
       "      <td>2005</td>\n",
       "      <td>4</td>\n",
       "      <td>Car drivers: seat belt usage not stated</td>\n",
       "      <td>Number</td>\n",
       "      <td>14.0</td>\n",
       "    </tr>\n",
       "    <tr>\n",
       "      <th>4</th>\n",
       "      <td>ROA23C1</td>\n",
       "      <td>Users of Cars Killed in Collisions</td>\n",
       "      <td>2005</td>\n",
       "      <td>9</td>\n",
       "      <td>All car drivers</td>\n",
       "      <td>Number</td>\n",
       "      <td>144.0</td>\n",
       "    </tr>\n",
       "  </tbody>\n",
       "</table>\n",
       "</div>"
      ],
      "text/plain": [
       "  STATISTIC                     Statistic Label  Year  C03121V03773  \\\n",
       "0   ROA23C1  Users of Cars Killed in Collisions  2005             1   \n",
       "1   ROA23C1  Users of Cars Killed in Collisions  2005             2   \n",
       "2   ROA23C1  Users of Cars Killed in Collisions  2005             3   \n",
       "3   ROA23C1  Users of Cars Killed in Collisions  2005             4   \n",
       "4   ROA23C1  Users of Cars Killed in Collisions  2005             9   \n",
       "\n",
       "                           Seat Belt Usage    UNIT  VALUE  \n",
       "0            Car drivers: seat belt in use  Number   55.0  \n",
       "1        Car drivers: seat belt not in use  Number   38.0  \n",
       "2     Car drivers: seat belt usage unknown  Number   37.0  \n",
       "3  Car drivers: seat belt usage not stated  Number   14.0  \n",
       "4                          All car drivers  Number  144.0  "
      ]
     },
     "execution_count": 4,
     "metadata": {},
     "output_type": "execute_result"
    }
   ],
   "source": [
    "# To Drop one duplicate row TLIST(A1)\tYear\n",
    "to_drop = ['TLIST(A1)']\n",
    "df.drop(columns=to_drop, inplace=True)\n",
    "df.head()"
   ]
  },
  {
   "cell_type": "code",
   "execution_count": 5,
   "id": "fed4a9c0",
   "metadata": {},
   "outputs": [
    {
     "data": {
      "text/html": [
       "<div>\n",
       "<style scoped>\n",
       "    .dataframe tbody tr th:only-of-type {\n",
       "        vertical-align: middle;\n",
       "    }\n",
       "\n",
       "    .dataframe tbody tr th {\n",
       "        vertical-align: top;\n",
       "    }\n",
       "\n",
       "    .dataframe thead th {\n",
       "        text-align: right;\n",
       "    }\n",
       "</style>\n",
       "<table border=\"1\" class=\"dataframe\">\n",
       "  <thead>\n",
       "    <tr style=\"text-align: right;\">\n",
       "      <th></th>\n",
       "      <th>STATISTIC</th>\n",
       "      <th>Statistic Label</th>\n",
       "      <th>Year</th>\n",
       "      <th>C03121V03773</th>\n",
       "      <th>Seat Belt</th>\n",
       "      <th>UNIT</th>\n",
       "      <th>VALUE</th>\n",
       "    </tr>\n",
       "  </thead>\n",
       "  <tbody>\n",
       "    <tr>\n",
       "      <th>0</th>\n",
       "      <td>ROA23C1</td>\n",
       "      <td>Users of Cars Killed in Collisions</td>\n",
       "      <td>2005</td>\n",
       "      <td>1</td>\n",
       "      <td>Car drivers: seat belt in use</td>\n",
       "      <td>Number</td>\n",
       "      <td>55.0</td>\n",
       "    </tr>\n",
       "    <tr>\n",
       "      <th>1</th>\n",
       "      <td>ROA23C1</td>\n",
       "      <td>Users of Cars Killed in Collisions</td>\n",
       "      <td>2005</td>\n",
       "      <td>2</td>\n",
       "      <td>Car drivers: seat belt not in use</td>\n",
       "      <td>Number</td>\n",
       "      <td>38.0</td>\n",
       "    </tr>\n",
       "    <tr>\n",
       "      <th>2</th>\n",
       "      <td>ROA23C1</td>\n",
       "      <td>Users of Cars Killed in Collisions</td>\n",
       "      <td>2005</td>\n",
       "      <td>3</td>\n",
       "      <td>Car drivers: seat belt usage unknown</td>\n",
       "      <td>Number</td>\n",
       "      <td>37.0</td>\n",
       "    </tr>\n",
       "    <tr>\n",
       "      <th>3</th>\n",
       "      <td>ROA23C1</td>\n",
       "      <td>Users of Cars Killed in Collisions</td>\n",
       "      <td>2005</td>\n",
       "      <td>4</td>\n",
       "      <td>Car drivers: seat belt usage not stated</td>\n",
       "      <td>Number</td>\n",
       "      <td>14.0</td>\n",
       "    </tr>\n",
       "    <tr>\n",
       "      <th>4</th>\n",
       "      <td>ROA23C1</td>\n",
       "      <td>Users of Cars Killed in Collisions</td>\n",
       "      <td>2005</td>\n",
       "      <td>9</td>\n",
       "      <td>All car drivers</td>\n",
       "      <td>Number</td>\n",
       "      <td>144.0</td>\n",
       "    </tr>\n",
       "  </tbody>\n",
       "</table>\n",
       "</div>"
      ],
      "text/plain": [
       "  STATISTIC                     Statistic Label  Year  C03121V03773  \\\n",
       "0   ROA23C1  Users of Cars Killed in Collisions  2005             1   \n",
       "1   ROA23C1  Users of Cars Killed in Collisions  2005             2   \n",
       "2   ROA23C1  Users of Cars Killed in Collisions  2005             3   \n",
       "3   ROA23C1  Users of Cars Killed in Collisions  2005             4   \n",
       "4   ROA23C1  Users of Cars Killed in Collisions  2005             9   \n",
       "\n",
       "                                 Seat Belt    UNIT  VALUE  \n",
       "0            Car drivers: seat belt in use  Number   55.0  \n",
       "1        Car drivers: seat belt not in use  Number   38.0  \n",
       "2     Car drivers: seat belt usage unknown  Number   37.0  \n",
       "3  Car drivers: seat belt usage not stated  Number   14.0  \n",
       "4                          All car drivers  Number  144.0  "
      ]
     },
     "execution_count": 5,
     "metadata": {},
     "output_type": "execute_result"
    }
   ],
   "source": [
    "df.rename(columns={'Seat Belt Usage': 'Seat Belt'}, inplace=True)\n",
    "df.head()"
   ]
  },
  {
   "cell_type": "code",
   "execution_count": 6,
   "id": "87e80bef",
   "metadata": {},
   "outputs": [
    {
     "name": "stdout",
     "output_type": "stream",
     "text": [
      "0                          Car drivers: seat belt in use\n",
      "1                      Car drivers: seat belt not in use\n",
      "2                   Car drivers: seat belt usage unknown\n",
      "3                Car drivers: seat belt usage not stated\n",
      "4                                        All car drivers\n",
      "                             ...                        \n",
      "675              Front seat passengers: seat belt in use\n",
      "676          Front seat passengers: seat belt not in use\n",
      "677       Front seat passengers: seat belt usage unknown\n",
      "678    Front seat passengers: seat belt usage not stated\n",
      "679                            All front seat passengers\n",
      "Name: Seat Belt, Length: 680, dtype: object\n"
     ]
    }
   ],
   "source": [
    "print(df['Seat Belt'])"
   ]
  },
  {
   "cell_type": "code",
   "execution_count": 7,
   "id": "4f9d0a31",
   "metadata": {},
   "outputs": [
    {
     "data": {
      "text/html": [
       "<div>\n",
       "<style scoped>\n",
       "    .dataframe tbody tr th:only-of-type {\n",
       "        vertical-align: middle;\n",
       "    }\n",
       "\n",
       "    .dataframe tbody tr th {\n",
       "        vertical-align: top;\n",
       "    }\n",
       "\n",
       "    .dataframe thead th {\n",
       "        text-align: right;\n",
       "    }\n",
       "</style>\n",
       "<table border=\"1\" class=\"dataframe\">\n",
       "  <thead>\n",
       "    <tr style=\"text-align: right;\">\n",
       "      <th></th>\n",
       "      <th>STATISTIC</th>\n",
       "      <th>Statistic Label</th>\n",
       "      <th>Year</th>\n",
       "      <th>C03121V03773</th>\n",
       "      <th>Seat Belt</th>\n",
       "      <th>UNIT</th>\n",
       "      <th>VALUE</th>\n",
       "      <th>SeatBelt_Sentiment</th>\n",
       "    </tr>\n",
       "  </thead>\n",
       "  <tbody>\n",
       "    <tr>\n",
       "      <th>0</th>\n",
       "      <td>ROA23C1</td>\n",
       "      <td>Users of Cars Killed in Collisions</td>\n",
       "      <td>2005</td>\n",
       "      <td>1</td>\n",
       "      <td>Car drivers: seat belt in use</td>\n",
       "      <td>Number</td>\n",
       "      <td>55.0</td>\n",
       "      <td>Positive</td>\n",
       "    </tr>\n",
       "    <tr>\n",
       "      <th>1</th>\n",
       "      <td>ROA23C1</td>\n",
       "      <td>Users of Cars Killed in Collisions</td>\n",
       "      <td>2005</td>\n",
       "      <td>2</td>\n",
       "      <td>Car drivers: seat belt not in use</td>\n",
       "      <td>Number</td>\n",
       "      <td>38.0</td>\n",
       "      <td>Positive</td>\n",
       "    </tr>\n",
       "    <tr>\n",
       "      <th>2</th>\n",
       "      <td>ROA23C1</td>\n",
       "      <td>Users of Cars Killed in Collisions</td>\n",
       "      <td>2005</td>\n",
       "      <td>3</td>\n",
       "      <td>Car drivers: seat belt usage unknown</td>\n",
       "      <td>Number</td>\n",
       "      <td>37.0</td>\n",
       "      <td>Negative</td>\n",
       "    </tr>\n",
       "    <tr>\n",
       "      <th>3</th>\n",
       "      <td>ROA23C1</td>\n",
       "      <td>Users of Cars Killed in Collisions</td>\n",
       "      <td>2005</td>\n",
       "      <td>4</td>\n",
       "      <td>Car drivers: seat belt usage not stated</td>\n",
       "      <td>Number</td>\n",
       "      <td>14.0</td>\n",
       "      <td>Negative</td>\n",
       "    </tr>\n",
       "    <tr>\n",
       "      <th>4</th>\n",
       "      <td>ROA23C1</td>\n",
       "      <td>Users of Cars Killed in Collisions</td>\n",
       "      <td>2005</td>\n",
       "      <td>9</td>\n",
       "      <td>All car drivers</td>\n",
       "      <td>Number</td>\n",
       "      <td>144.0</td>\n",
       "      <td>Neutral</td>\n",
       "    </tr>\n",
       "  </tbody>\n",
       "</table>\n",
       "</div>"
      ],
      "text/plain": [
       "  STATISTIC                     Statistic Label  Year  C03121V03773  \\\n",
       "0   ROA23C1  Users of Cars Killed in Collisions  2005             1   \n",
       "1   ROA23C1  Users of Cars Killed in Collisions  2005             2   \n",
       "2   ROA23C1  Users of Cars Killed in Collisions  2005             3   \n",
       "3   ROA23C1  Users of Cars Killed in Collisions  2005             4   \n",
       "4   ROA23C1  Users of Cars Killed in Collisions  2005             9   \n",
       "\n",
       "                                 Seat Belt    UNIT  VALUE SeatBelt_Sentiment  \n",
       "0            Car drivers: seat belt in use  Number   55.0           Positive  \n",
       "1        Car drivers: seat belt not in use  Number   38.0           Positive  \n",
       "2     Car drivers: seat belt usage unknown  Number   37.0           Negative  \n",
       "3  Car drivers: seat belt usage not stated  Number   14.0           Negative  \n",
       "4                          All car drivers  Number  144.0            Neutral  "
      ]
     },
     "execution_count": 7,
     "metadata": {},
     "output_type": "execute_result"
    }
   ],
   "source": [
    "def analyze_seat_belt_sentiment(text):\n",
    "    # Convert the text to lowercase for easier matching\n",
    "    text = text.lower()\n",
    "    \n",
    "    # Assign sentiment based on the content of the text\n",
    "    if \"in use\" in text or \"All car drivers\" in text:\n",
    "        return \"Positive\"\n",
    "    elif \"not in use\" in text or \"unknown\" in text or \"not stated\" in text:\n",
    "        return \"Negative\"\n",
    "    else:\n",
    "        return \"Neutral\"\n",
    "df['SeatBelt_Sentiment'] = df['Seat Belt'].apply(analyze_seat_belt_sentiment)\n",
    "(df.head())"
   ]
  },
  {
   "cell_type": "code",
   "execution_count": null,
   "id": "a91007a2",
   "metadata": {},
   "outputs": [],
   "source": []
  },
  {
   "cell_type": "code",
   "execution_count": null,
   "id": "512810de",
   "metadata": {},
   "outputs": [],
   "source": []
  },
  {
   "cell_type": "code",
   "execution_count": null,
   "id": "839d1760",
   "metadata": {},
   "outputs": [],
   "source": []
  },
  {
   "cell_type": "code",
   "execution_count": null,
   "id": "f2205c93",
   "metadata": {},
   "outputs": [],
   "source": [
    "def analyze_sentiment(Seat Belt Usage):\n",
    "    sentiment_score = 0\n",
    "    if kms_driven < 50000:\n",
    "        sentiment_score += 1\n",
    "    elif 50000 <= kms_driven < 100000:\n",
    "        sentiment_score += 0.5\n",
    "    if owner_type == \"First\":\n",
    "        sentiment_score += 1\n",
    "    elif owner_type == \"Second\":\n",
    "        sentiment_score += 0.5\n",
    "    # You can add more conditions or use a more sophisticated approach based on your requirements\n",
    "    return sentiment_score\n",
    "    \n",
    "    "
   ]
  },
  {
   "cell_type": "code",
   "execution_count": null,
   "id": "aa351702",
   "metadata": {},
   "outputs": [],
   "source": []
  },
  {
   "cell_type": "code",
   "execution_count": 4,
   "id": "1c8a47dc",
   "metadata": {},
   "outputs": [
    {
     "name": "stdout",
     "output_type": "stream",
     "text": [
      "<class 'pandas.core.frame.DataFrame'>\n",
      "RangeIndex: 680 entries, 0 to 679\n",
      "Data columns (total 8 columns):\n",
      " #   Column           Non-Null Count  Dtype  \n",
      "---  ------           --------------  -----  \n",
      " 0   STATISTIC        680 non-null    object \n",
      " 1   Statistic Label  680 non-null    object \n",
      " 2   TLIST(A1)        680 non-null    int64  \n",
      " 3   Year             680 non-null    int64  \n",
      " 4   C03121V03773     680 non-null    int64  \n",
      " 5   Seat Belt Usage  680 non-null    object \n",
      " 6   UNIT             680 non-null    object \n",
      " 7   VALUE            595 non-null    float64\n",
      "dtypes: float64(1), int64(3), object(4)\n",
      "memory usage: 42.6+ KB\n",
      "None\n"
     ]
    }
   ],
   "source": [
    "# summary of the dataset: 608 rows, 8 columns, no null values\n",
    "print(df.info())"
   ]
  },
  {
   "cell_type": "code",
   "execution_count": 5,
   "id": "9fffb025",
   "metadata": {},
   "outputs": [
    {
     "data": {
      "text/html": [
       "<div>\n",
       "<style scoped>\n",
       "    .dataframe tbody tr th:only-of-type {\n",
       "        vertical-align: middle;\n",
       "    }\n",
       "\n",
       "    .dataframe tbody tr th {\n",
       "        vertical-align: top;\n",
       "    }\n",
       "\n",
       "    .dataframe thead th {\n",
       "        text-align: right;\n",
       "    }\n",
       "</style>\n",
       "<table border=\"1\" class=\"dataframe\">\n",
       "  <thead>\n",
       "    <tr style=\"text-align: right;\">\n",
       "      <th></th>\n",
       "      <th>TLIST(A1)</th>\n",
       "      <th>Year</th>\n",
       "      <th>C03121V03773</th>\n",
       "      <th>VALUE</th>\n",
       "    </tr>\n",
       "  </thead>\n",
       "  <tbody>\n",
       "    <tr>\n",
       "      <th>count</th>\n",
       "      <td>680.000000</td>\n",
       "      <td>680.000000</td>\n",
       "      <td>680.000000</td>\n",
       "      <td>595.000000</td>\n",
       "    </tr>\n",
       "    <tr>\n",
       "      <th>mean</th>\n",
       "      <td>2013.000000</td>\n",
       "      <td>2013.000000</td>\n",
       "      <td>5.500000</td>\n",
       "      <td>880.877311</td>\n",
       "    </tr>\n",
       "    <tr>\n",
       "      <th>std</th>\n",
       "      <td>4.902586</td>\n",
       "      <td>4.902586</td>\n",
       "      <td>2.874396</td>\n",
       "      <td>1424.144822</td>\n",
       "    </tr>\n",
       "    <tr>\n",
       "      <th>min</th>\n",
       "      <td>2005.000000</td>\n",
       "      <td>2005.000000</td>\n",
       "      <td>1.000000</td>\n",
       "      <td>0.000000</td>\n",
       "    </tr>\n",
       "    <tr>\n",
       "      <th>25%</th>\n",
       "      <td>2009.000000</td>\n",
       "      <td>2009.000000</td>\n",
       "      <td>3.000000</td>\n",
       "      <td>18.000000</td>\n",
       "    </tr>\n",
       "    <tr>\n",
       "      <th>50%</th>\n",
       "      <td>2013.000000</td>\n",
       "      <td>2013.000000</td>\n",
       "      <td>5.500000</td>\n",
       "      <td>145.000000</td>\n",
       "    </tr>\n",
       "    <tr>\n",
       "      <th>75%</th>\n",
       "      <td>2017.000000</td>\n",
       "      <td>2017.000000</td>\n",
       "      <td>8.000000</td>\n",
       "      <td>1194.000000</td>\n",
       "    </tr>\n",
       "    <tr>\n",
       "      <th>max</th>\n",
       "      <td>2021.000000</td>\n",
       "      <td>2021.000000</td>\n",
       "      <td>10.000000</td>\n",
       "      <td>7837.000000</td>\n",
       "    </tr>\n",
       "  </tbody>\n",
       "</table>\n",
       "</div>"
      ],
      "text/plain": [
       "         TLIST(A1)         Year  C03121V03773        VALUE\n",
       "count   680.000000   680.000000    680.000000   595.000000\n",
       "mean   2013.000000  2013.000000      5.500000   880.877311\n",
       "std       4.902586     4.902586      2.874396  1424.144822\n",
       "min    2005.000000  2005.000000      1.000000     0.000000\n",
       "25%    2009.000000  2009.000000      3.000000    18.000000\n",
       "50%    2013.000000  2013.000000      5.500000   145.000000\n",
       "75%    2017.000000  2017.000000      8.000000  1194.000000\n",
       "max    2021.000000  2021.000000     10.000000  7837.000000"
      ]
     },
     "execution_count": 5,
     "metadata": {},
     "output_type": "execute_result"
    }
   ],
   "source": [
    "df.describe()"
   ]
  },
  {
   "cell_type": "code",
   "execution_count": null,
   "id": "07bb6196",
   "metadata": {},
   "outputs": [],
   "source": []
  },
  {
   "cell_type": "code",
   "execution_count": null,
   "id": "ed0d92a8",
   "metadata": {},
   "outputs": [],
   "source": []
  },
  {
   "cell_type": "code",
   "execution_count": null,
   "id": "8b3239be",
   "metadata": {},
   "outputs": [],
   "source": []
  },
  {
   "cell_type": "code",
   "execution_count": null,
   "id": "e0fbca6b",
   "metadata": {},
   "outputs": [],
   "source": []
  },
  {
   "cell_type": "code",
   "execution_count": null,
   "id": "98806468",
   "metadata": {},
   "outputs": [],
   "source": []
  },
  {
   "cell_type": "code",
   "execution_count": null,
   "id": "b52b1e67",
   "metadata": {},
   "outputs": [],
   "source": []
  },
  {
   "cell_type": "code",
   "execution_count": 8,
   "id": "99340a8e",
   "metadata": {},
   "outputs": [],
   "source": [
    "# create a sample DataFrame\n",
    "df = pd.DataFrame({'categorical_variable': ['Statistic Label', 'Year', 'Seat Belt Usage', 'VALUE']})"
   ]
  },
  {
   "cell_type": "code",
   "execution_count": 9,
   "id": "9b458fd1",
   "metadata": {},
   "outputs": [],
   "source": [
    "value_counts = df['categorical_variable'].value_counts()"
   ]
  },
  {
   "cell_type": "code",
   "execution_count": 10,
   "id": "409e5908",
   "metadata": {},
   "outputs": [
    {
     "name": "stdout",
     "output_type": "stream",
     "text": [
      "categorical_variable\n",
      "Statistic Label    1\n",
      "Year               1\n",
      "Seat Belt Usage    1\n",
      "VALUE              1\n",
      "Name: count, dtype: int64\n"
     ]
    }
   ],
   "source": [
    "print(value_counts)"
   ]
  },
  {
   "cell_type": "code",
   "execution_count": 11,
   "id": "8552b832",
   "metadata": {},
   "outputs": [
    {
     "name": "stdout",
     "output_type": "stream",
     "text": [
      "Seat Belt Usage\n",
      "Year\n",
      "Statistic LabelYearSeat Belt UsageVALUE\n"
     ]
    }
   ],
   "source": [
    "#Prints the minimum value of all the elements in a\n",
    "a = np.array([df])\n",
    "print(a.min())\n",
    "print(a.max())\n",
    "print(a.sum())"
   ]
  },
  {
   "cell_type": "markdown",
   "id": "4066b310",
   "metadata": {},
   "source": [
    "   #           Measure of Central Tendency \"Second hand home\""
   ]
  },
  {
   "cell_type": "code",
   "execution_count": 10,
   "id": "0728b7a6",
   "metadata": {},
   "outputs": [
    {
     "ename": "KeyError",
     "evalue": "'Year'",
     "output_type": "error",
     "traceback": [
      "\u001b[1;31m---------------------------------------------------------------------------\u001b[0m",
      "\u001b[1;31mKeyError\u001b[0m                                  Traceback (most recent call last)",
      "File \u001b[1;32m~\\anaconda3\\Lib\\site-packages\\pandas\\core\\indexes\\base.py:3653\u001b[0m, in \u001b[0;36mIndex.get_loc\u001b[1;34m(self, key)\u001b[0m\n\u001b[0;32m   3652\u001b[0m \u001b[38;5;28;01mtry\u001b[39;00m:\n\u001b[1;32m-> 3653\u001b[0m     \u001b[38;5;28;01mreturn\u001b[39;00m \u001b[38;5;28mself\u001b[39m\u001b[38;5;241m.\u001b[39m_engine\u001b[38;5;241m.\u001b[39mget_loc(casted_key)\n\u001b[0;32m   3654\u001b[0m \u001b[38;5;28;01mexcept\u001b[39;00m \u001b[38;5;167;01mKeyError\u001b[39;00m \u001b[38;5;28;01mas\u001b[39;00m err:\n",
      "File \u001b[1;32m~\\anaconda3\\Lib\\site-packages\\pandas\\_libs\\index.pyx:147\u001b[0m, in \u001b[0;36mpandas._libs.index.IndexEngine.get_loc\u001b[1;34m()\u001b[0m\n",
      "File \u001b[1;32m~\\anaconda3\\Lib\\site-packages\\pandas\\_libs\\index.pyx:176\u001b[0m, in \u001b[0;36mpandas._libs.index.IndexEngine.get_loc\u001b[1;34m()\u001b[0m\n",
      "File \u001b[1;32mpandas\\_libs\\hashtable_class_helper.pxi:7080\u001b[0m, in \u001b[0;36mpandas._libs.hashtable.PyObjectHashTable.get_item\u001b[1;34m()\u001b[0m\n",
      "File \u001b[1;32mpandas\\_libs\\hashtable_class_helper.pxi:7088\u001b[0m, in \u001b[0;36mpandas._libs.hashtable.PyObjectHashTable.get_item\u001b[1;34m()\u001b[0m\n",
      "\u001b[1;31mKeyError\u001b[0m: 'Year'",
      "\nThe above exception was the direct cause of the following exception:\n",
      "\u001b[1;31mKeyError\u001b[0m                                  Traceback (most recent call last)",
      "Cell \u001b[1;32mIn[10], line 2\u001b[0m\n\u001b[0;32m      1\u001b[0m \u001b[38;5;66;03m# Mean\u001b[39;00m\n\u001b[1;32m----> 2\u001b[0m numeric_data \u001b[38;5;241m=\u001b[39m df[\u001b[38;5;124m\"\u001b[39m\u001b[38;5;124mYear\u001b[39m\u001b[38;5;124m\"\u001b[39m]\n\u001b[0;32m      3\u001b[0m \u001b[38;5;28;01mif\u001b[39;00m numeric_data\u001b[38;5;241m.\u001b[39mdtype \u001b[38;5;241m==\u001b[39m \u001b[38;5;124m'\u001b[39m\u001b[38;5;124mint64\u001b[39m\u001b[38;5;124m'\u001b[39m \u001b[38;5;129;01mor\u001b[39;00m numeric_data\u001b[38;5;241m.\u001b[39mdtype \u001b[38;5;241m==\u001b[39m \u001b[38;5;124m'\u001b[39m\u001b[38;5;124mfloat64\u001b[39m\u001b[38;5;124m'\u001b[39m:\n\u001b[0;32m      4\u001b[0m     mean \u001b[38;5;241m=\u001b[39m numeric_data\u001b[38;5;241m.\u001b[39mmean()\n",
      "File \u001b[1;32m~\\anaconda3\\Lib\\site-packages\\pandas\\core\\frame.py:3761\u001b[0m, in \u001b[0;36mDataFrame.__getitem__\u001b[1;34m(self, key)\u001b[0m\n\u001b[0;32m   3759\u001b[0m \u001b[38;5;28;01mif\u001b[39;00m \u001b[38;5;28mself\u001b[39m\u001b[38;5;241m.\u001b[39mcolumns\u001b[38;5;241m.\u001b[39mnlevels \u001b[38;5;241m>\u001b[39m \u001b[38;5;241m1\u001b[39m:\n\u001b[0;32m   3760\u001b[0m     \u001b[38;5;28;01mreturn\u001b[39;00m \u001b[38;5;28mself\u001b[39m\u001b[38;5;241m.\u001b[39m_getitem_multilevel(key)\n\u001b[1;32m-> 3761\u001b[0m indexer \u001b[38;5;241m=\u001b[39m \u001b[38;5;28mself\u001b[39m\u001b[38;5;241m.\u001b[39mcolumns\u001b[38;5;241m.\u001b[39mget_loc(key)\n\u001b[0;32m   3762\u001b[0m \u001b[38;5;28;01mif\u001b[39;00m is_integer(indexer):\n\u001b[0;32m   3763\u001b[0m     indexer \u001b[38;5;241m=\u001b[39m [indexer]\n",
      "File \u001b[1;32m~\\anaconda3\\Lib\\site-packages\\pandas\\core\\indexes\\base.py:3655\u001b[0m, in \u001b[0;36mIndex.get_loc\u001b[1;34m(self, key)\u001b[0m\n\u001b[0;32m   3653\u001b[0m     \u001b[38;5;28;01mreturn\u001b[39;00m \u001b[38;5;28mself\u001b[39m\u001b[38;5;241m.\u001b[39m_engine\u001b[38;5;241m.\u001b[39mget_loc(casted_key)\n\u001b[0;32m   3654\u001b[0m \u001b[38;5;28;01mexcept\u001b[39;00m \u001b[38;5;167;01mKeyError\u001b[39;00m \u001b[38;5;28;01mas\u001b[39;00m err:\n\u001b[1;32m-> 3655\u001b[0m     \u001b[38;5;28;01mraise\u001b[39;00m \u001b[38;5;167;01mKeyError\u001b[39;00m(key) \u001b[38;5;28;01mfrom\u001b[39;00m \u001b[38;5;21;01merr\u001b[39;00m\n\u001b[0;32m   3656\u001b[0m \u001b[38;5;28;01mexcept\u001b[39;00m \u001b[38;5;167;01mTypeError\u001b[39;00m:\n\u001b[0;32m   3657\u001b[0m     \u001b[38;5;66;03m# If we have a listlike key, _check_indexing_error will raise\u001b[39;00m\n\u001b[0;32m   3658\u001b[0m     \u001b[38;5;66;03m#  InvalidIndexError. Otherwise we fall through and re-raise\u001b[39;00m\n\u001b[0;32m   3659\u001b[0m     \u001b[38;5;66;03m#  the TypeError.\u001b[39;00m\n\u001b[0;32m   3660\u001b[0m     \u001b[38;5;28mself\u001b[39m\u001b[38;5;241m.\u001b[39m_check_indexing_error(key)\n",
      "\u001b[1;31mKeyError\u001b[0m: 'Year'"
     ]
    }
   ],
   "source": [
    "# Mean\n",
    "numeric_data = df[\"Year\"]\n",
    "if numeric_data.dtype == 'int64' or numeric_data.dtype == 'float64':\n",
    "    mean = numeric_data.mean()\n",
    "    mean_rounded = round(mean, 2)\n",
    "    print('Mean:', mean_rounded)\n",
    "else:\n",
    "    print(\"The selected column does not contain numeric data\")"
   ]
  },
  {
   "cell_type": "code",
   "execution_count": null,
   "id": "1dabfaae",
   "metadata": {},
   "outputs": [],
   "source": [
    "median = home[\"National\"].median()\n",
    "print('Median:', median)"
   ]
  },
  {
   "cell_type": "code",
   "execution_count": null,
   "id": "c2ccb9b5",
   "metadata": {},
   "outputs": [],
   "source": []
  },
  {
   "cell_type": "code",
   "execution_count": null,
   "id": "a8164ac5",
   "metadata": {},
   "outputs": [],
   "source": []
  },
  {
   "cell_type": "code",
   "execution_count": null,
   "id": "f9996f38",
   "metadata": {},
   "outputs": [],
   "source": []
  },
  {
   "cell_type": "code",
   "execution_count": null,
   "id": "9632f26a",
   "metadata": {},
   "outputs": [],
   "source": []
  },
  {
   "cell_type": "code",
   "execution_count": null,
   "id": "9291aa47",
   "metadata": {},
   "outputs": [],
   "source": []
  },
  {
   "cell_type": "code",
   "execution_count": null,
   "id": "a2c3d348",
   "metadata": {},
   "outputs": [],
   "source": [
    "def analyze_sentiment(kms_driven, owner_type):\n",
    "    # Perform sentiment analysis based on your criteria\n",
    "    # This can be a simple rule-based approach, machine learning model, or any other method\n",
    "    # For simplicity, let's assume a rule-based approach here\n",
    "    sentiment_score = 0\n",
    "    if kms_driven < 50000:\n",
    "        sentiment_score += 1\n",
    "    elif 50000 <= kms_driven < 100000:\n",
    "        sentiment_score += 0.5\n",
    "    if owner_type == \"First\":\n",
    "        sentiment_score += 1\n",
    "    elif owner_type == \"Second\":\n",
    "        sentiment_score += 0.5\n",
    "    # You can add more conditions or use a more sophisticated approach based on your requirements\n",
    "    return sentiment_score"
   ]
  },
  {
   "cell_type": "code",
   "execution_count": null,
   "id": "8bcb9a4e",
   "metadata": {},
   "outputs": [],
   "source": []
  },
  {
   "cell_type": "code",
   "execution_count": null,
   "id": "434cf1b8",
   "metadata": {},
   "outputs": [],
   "source": [
    "df = df.drop(['Title', 'Positive Feedback Count', 'Unnamed: 0', ], axis=1)\n",
    "df.dropna(inplace=True)"
   ]
  },
  {
   "cell_type": "code",
   "execution_count": null,
   "id": "9b681ca2",
   "metadata": {},
   "outputs": [],
   "source": []
  },
  {
   "cell_type": "code",
   "execution_count": null,
   "id": "378a0a16",
   "metadata": {},
   "outputs": [],
   "source": []
  }
 ],
 "metadata": {
  "kernelspec": {
   "display_name": "Python 3 (ipykernel)",
   "language": "python",
   "name": "python3"
  },
  "language_info": {
   "codemirror_mode": {
    "name": "ipython",
    "version": 3
   },
   "file_extension": ".py",
   "mimetype": "text/x-python",
   "name": "python",
   "nbconvert_exporter": "python",
   "pygments_lexer": "ipython3",
   "version": "3.11.5"
  }
 },
 "nbformat": 4,
 "nbformat_minor": 5
}
